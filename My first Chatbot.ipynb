{
 "cells": [
  {
   "cell_type": "code",
   "execution_count": 1,
   "metadata": {},
   "outputs": [
    {
     "name": "stdout",
     "output_type": "stream",
     "text": [
      "Requirement already satisfied: chatterbot in c:\\users\\ayushi jain\\anaconda3\\envs\\tensorflow_env\\lib\\site-packages (1.0.8)\n",
      "Requirement already satisfied: sqlalchemy<1.4,>=1.3 in c:\\users\\ayushi jain\\anaconda3\\envs\\tensorflow_env\\lib\\site-packages (from chatterbot) (1.3.20)\n",
      "Requirement already satisfied: pytz in c:\\users\\ayushi jain\\anaconda3\\envs\\tensorflow_env\\lib\\site-packages (from chatterbot) (2020.1)\n",
      "Requirement already satisfied: mathparse<0.2,>=0.1 in c:\\users\\ayushi jain\\anaconda3\\envs\\tensorflow_env\\lib\\site-packages (from chatterbot) (0.1.2)\n",
      "Requirement already satisfied: python-dateutil<2.9,>=2.8 in c:\\users\\ayushi jain\\anaconda3\\envs\\tensorflow_env\\lib\\site-packages (from chatterbot) (2.8.1)\n",
      "Requirement already satisfied: six>=1.5 in c:\\users\\ayushi jain\\anaconda3\\envs\\tensorflow_env\\lib\\site-packages (from python-dateutil<2.9,>=2.8->chatterbot) (1.15.0)\n"
     ]
    }
   ],
   "source": [
    "!pip install chatterbot"
   ]
  },
  {
   "cell_type": "code",
   "execution_count": 2,
   "metadata": {},
   "outputs": [
    {
     "name": "stdout",
     "output_type": "stream",
     "text": [
      "Collecting chatterbot_corpus\n",
      "  Using cached chatterbot_corpus-1.2.0-py2.py3-none-any.whl (117 kB)\n",
      "Collecting PyYAML<4.0,>=3.12\n",
      "  Using cached PyYAML-3.13-cp37-cp37m-win_amd64.whl (206 kB)\n",
      "Installing collected packages: PyYAML, chatterbot-corpus\n",
      "  Attempting uninstall: PyYAML\n",
      "    Found existing installation: PyYAML 5.3.1\n"
     ]
    },
    {
     "name": "stderr",
     "output_type": "stream",
     "text": [
      "ERROR: Cannot uninstall 'PyYAML'. It is a distutils installed project and thus we cannot accurately determine which files belong to it which would lead to only a partial uninstall.\n"
     ]
    }
   ],
   "source": [
    "!pip install chatterbot_corpus"
   ]
  },
  {
   "cell_type": "code",
   "execution_count": 3,
   "metadata": {},
   "outputs": [
    {
     "name": "stdout",
     "output_type": "stream",
     "text": [
      "Requirement already up-to-date: spacy in c:\\users\\ayushi jain\\anaconda3\\envs\\tensorflow_env\\lib\\site-packages (2.3.2)\n",
      "Requirement already satisfied, skipping upgrade: catalogue<1.1.0,>=0.0.7 in c:\\users\\ayushi jain\\anaconda3\\envs\\tensorflow_env\\lib\\site-packages (from spacy) (1.0.0)\n",
      "Requirement already satisfied, skipping upgrade: preshed<3.1.0,>=3.0.2 in c:\\users\\ayushi jain\\anaconda3\\envs\\tensorflow_env\\lib\\site-packages (from spacy) (3.0.3)\n",
      "Requirement already satisfied, skipping upgrade: thinc==7.4.1 in c:\\users\\ayushi jain\\anaconda3\\envs\\tensorflow_env\\lib\\site-packages (from spacy) (7.4.1)\n",
      "Requirement already satisfied, skipping upgrade: requests<3.0.0,>=2.13.0 in c:\\users\\ayushi jain\\anaconda3\\envs\\tensorflow_env\\lib\\site-packages (from spacy) (2.24.0)\n",
      "Requirement already satisfied, skipping upgrade: blis<0.5.0,>=0.4.0 in c:\\users\\ayushi jain\\anaconda3\\envs\\tensorflow_env\\lib\\site-packages (from spacy) (0.4.1)\n",
      "Requirement already satisfied, skipping upgrade: cymem<2.1.0,>=2.0.2 in c:\\users\\ayushi jain\\anaconda3\\envs\\tensorflow_env\\lib\\site-packages (from spacy) (2.0.4)\n",
      "Requirement already satisfied, skipping upgrade: setuptools in c:\\users\\ayushi jain\\anaconda3\\envs\\tensorflow_env\\lib\\site-packages (from spacy) (49.4.0.post20200813)\n",
      "Requirement already satisfied, skipping upgrade: tqdm<5.0.0,>=4.38.0 in c:\\users\\ayushi jain\\anaconda3\\envs\\tensorflow_env\\lib\\site-packages (from spacy) (4.51.0)\n",
      "Requirement already satisfied, skipping upgrade: wasabi<1.1.0,>=0.4.0 in c:\\users\\ayushi jain\\anaconda3\\envs\\tensorflow_env\\lib\\site-packages (from spacy) (0.8.0)\n",
      "Requirement already satisfied, skipping upgrade: numpy>=1.15.0 in c:\\users\\ayushi jain\\anaconda3\\envs\\tensorflow_env\\lib\\site-packages (from spacy) (1.19.1)\n",
      "Requirement already satisfied, skipping upgrade: murmurhash<1.1.0,>=0.28.0 in c:\\users\\ayushi jain\\anaconda3\\envs\\tensorflow_env\\lib\\site-packages (from spacy) (1.0.4)\n",
      "Requirement already satisfied, skipping upgrade: plac<1.2.0,>=0.9.6 in c:\\users\\ayushi jain\\anaconda3\\envs\\tensorflow_env\\lib\\site-packages (from spacy) (1.1.3)\n",
      "Requirement already satisfied, skipping upgrade: srsly<1.1.0,>=1.0.2 in c:\\users\\ayushi jain\\anaconda3\\envs\\tensorflow_env\\lib\\site-packages (from spacy) (1.0.2)\n",
      "Requirement already satisfied, skipping upgrade: importlib-metadata>=0.20; python_version < \"3.8\" in c:\\users\\ayushi jain\\anaconda3\\envs\\tensorflow_env\\lib\\site-packages (from catalogue<1.1.0,>=0.0.7->spacy) (1.7.0)\n",
      "Requirement already satisfied, skipping upgrade: urllib3!=1.25.0,!=1.25.1,<1.26,>=1.21.1 in c:\\users\\ayushi jain\\anaconda3\\envs\\tensorflow_env\\lib\\site-packages (from requests<3.0.0,>=2.13.0->spacy) (1.25.10)\n",
      "Requirement already satisfied, skipping upgrade: chardet<4,>=3.0.2 in c:\\users\\ayushi jain\\anaconda3\\envs\\tensorflow_env\\lib\\site-packages (from requests<3.0.0,>=2.13.0->spacy) (3.0.4)\n",
      "Requirement already satisfied, skipping upgrade: idna<3,>=2.5 in c:\\users\\ayushi jain\\anaconda3\\envs\\tensorflow_env\\lib\\site-packages (from requests<3.0.0,>=2.13.0->spacy) (2.10)\n",
      "Requirement already satisfied, skipping upgrade: certifi>=2017.4.17 in c:\\users\\ayushi jain\\anaconda3\\envs\\tensorflow_env\\lib\\site-packages (from requests<3.0.0,>=2.13.0->spacy) (2020.6.20)\n",
      "Requirement already satisfied, skipping upgrade: zipp>=0.5 in c:\\users\\ayushi jain\\anaconda3\\envs\\tensorflow_env\\lib\\site-packages (from importlib-metadata>=0.20; python_version < \"3.8\"->catalogue<1.1.0,>=0.0.7->spacy) (3.1.0)\n"
     ]
    }
   ],
   "source": [
    "!pip install -U spacy"
   ]
  },
  {
   "cell_type": "code",
   "execution_count": 4,
   "metadata": {},
   "outputs": [
    {
     "name": "stdout",
     "output_type": "stream",
     "text": [
      "Requirement already satisfied: en_core_web_sm in c:\\users\\ayushi jain\\anaconda3\\envs\\tensorflow_env\\lib\\site-packages (2.3.1)\n",
      "Requirement already satisfied: spacy<2.4.0,>=2.3.0 in c:\\users\\ayushi jain\\anaconda3\\envs\\tensorflow_env\\lib\\site-packages (from en_core_web_sm) (2.3.2)\n",
      "Requirement already satisfied: cymem<2.1.0,>=2.0.2 in c:\\users\\ayushi jain\\anaconda3\\envs\\tensorflow_env\\lib\\site-packages (from spacy<2.4.0,>=2.3.0->en_core_web_sm) (2.0.4)\n",
      "Requirement already satisfied: wasabi<1.1.0,>=0.4.0 in c:\\users\\ayushi jain\\anaconda3\\envs\\tensorflow_env\\lib\\site-packages (from spacy<2.4.0,>=2.3.0->en_core_web_sm) (0.8.0)\n",
      "Requirement already satisfied: plac<1.2.0,>=0.9.6 in c:\\users\\ayushi jain\\anaconda3\\envs\\tensorflow_env\\lib\\site-packages (from spacy<2.4.0,>=2.3.0->en_core_web_sm) (1.1.3)\n",
      "Requirement already satisfied: blis<0.5.0,>=0.4.0 in c:\\users\\ayushi jain\\anaconda3\\envs\\tensorflow_env\\lib\\site-packages (from spacy<2.4.0,>=2.3.0->en_core_web_sm) (0.4.1)\n",
      "Requirement already satisfied: numpy>=1.15.0 in c:\\users\\ayushi jain\\anaconda3\\envs\\tensorflow_env\\lib\\site-packages (from spacy<2.4.0,>=2.3.0->en_core_web_sm) (1.19.1)\n",
      "Requirement already satisfied: requests<3.0.0,>=2.13.0 in c:\\users\\ayushi jain\\anaconda3\\envs\\tensorflow_env\\lib\\site-packages (from spacy<2.4.0,>=2.3.0->en_core_web_sm) (2.24.0)\n",
      "Requirement already satisfied: tqdm<5.0.0,>=4.38.0 in c:\\users\\ayushi jain\\anaconda3\\envs\\tensorflow_env\\lib\\site-packages (from spacy<2.4.0,>=2.3.0->en_core_web_sm) (4.51.0)\n",
      "Requirement already satisfied: thinc==7.4.1 in c:\\users\\ayushi jain\\anaconda3\\envs\\tensorflow_env\\lib\\site-packages (from spacy<2.4.0,>=2.3.0->en_core_web_sm) (7.4.1)\n",
      "Requirement already satisfied: srsly<1.1.0,>=1.0.2 in c:\\users\\ayushi jain\\anaconda3\\envs\\tensorflow_env\\lib\\site-packages (from spacy<2.4.0,>=2.3.0->en_core_web_sm) (1.0.2)\n",
      "Requirement already satisfied: murmurhash<1.1.0,>=0.28.0 in c:\\users\\ayushi jain\\anaconda3\\envs\\tensorflow_env\\lib\\site-packages (from spacy<2.4.0,>=2.3.0->en_core_web_sm) (1.0.4)\n",
      "Requirement already satisfied: setuptools in c:\\users\\ayushi jain\\anaconda3\\envs\\tensorflow_env\\lib\\site-packages (from spacy<2.4.0,>=2.3.0->en_core_web_sm) (49.4.0.post20200813)\n",
      "Requirement already satisfied: catalogue<1.1.0,>=0.0.7 in c:\\users\\ayushi jain\\anaconda3\\envs\\tensorflow_env\\lib\\site-packages (from spacy<2.4.0,>=2.3.0->en_core_web_sm) (1.0.0)\n",
      "Requirement already satisfied: preshed<3.1.0,>=3.0.2 in c:\\users\\ayushi jain\\anaconda3\\envs\\tensorflow_env\\lib\\site-packages (from spacy<2.4.0,>=2.3.0->en_core_web_sm) (3.0.3)\n",
      "Requirement already satisfied: idna<3,>=2.5 in c:\\users\\ayushi jain\\anaconda3\\envs\\tensorflow_env\\lib\\site-packages (from requests<3.0.0,>=2.13.0->spacy<2.4.0,>=2.3.0->en_core_web_sm) (2.10)\n",
      "Requirement already satisfied: chardet<4,>=3.0.2 in c:\\users\\ayushi jain\\anaconda3\\envs\\tensorflow_env\\lib\\site-packages (from requests<3.0.0,>=2.13.0->spacy<2.4.0,>=2.3.0->en_core_web_sm) (3.0.4)\n",
      "Requirement already satisfied: certifi>=2017.4.17 in c:\\users\\ayushi jain\\anaconda3\\envs\\tensorflow_env\\lib\\site-packages (from requests<3.0.0,>=2.13.0->spacy<2.4.0,>=2.3.0->en_core_web_sm) (2020.6.20)\n",
      "Requirement already satisfied: urllib3!=1.25.0,!=1.25.1,<1.26,>=1.21.1 in c:\\users\\ayushi jain\\anaconda3\\envs\\tensorflow_env\\lib\\site-packages (from requests<3.0.0,>=2.13.0->spacy<2.4.0,>=2.3.0->en_core_web_sm) (1.25.10)\n",
      "Requirement already satisfied: importlib-metadata>=0.20; python_version < \"3.8\" in c:\\users\\ayushi jain\\anaconda3\\envs\\tensorflow_env\\lib\\site-packages (from catalogue<1.1.0,>=0.0.7->spacy<2.4.0,>=2.3.0->en_core_web_sm) (1.7.0)\n",
      "Requirement already satisfied: zipp>=0.5 in c:\\users\\ayushi jain\\anaconda3\\envs\\tensorflow_env\\lib\\site-packages (from importlib-metadata>=0.20; python_version < \"3.8\"->catalogue<1.1.0,>=0.0.7->spacy<2.4.0,>=2.3.0->en_core_web_sm) (3.1.0)\n"
     ]
    }
   ],
   "source": [
    "!pip install en_core_web_sm"
   ]
  },
  {
   "cell_type": "code",
   "execution_count": 5,
   "metadata": {},
   "outputs": [
    {
     "name": "stdout",
     "output_type": "stream",
     "text": [
      "Requirement already satisfied: en_core_web_sm==2.3.1 from https://github.com/explosion/spacy-models/releases/download/en_core_web_sm-2.3.1/en_core_web_sm-2.3.1.tar.gz#egg=en_core_web_sm==2.3.1 in c:\\users\\ayushi jain\\anaconda3\\envs\\tensorflow_env\\lib\\site-packages (2.3.1)\n",
      "Requirement already satisfied: spacy<2.4.0,>=2.3.0 in c:\\users\\ayushi jain\\anaconda3\\envs\\tensorflow_env\\lib\\site-packages (from en_core_web_sm==2.3.1) (2.3.2)\n",
      "Requirement already satisfied: requests<3.0.0,>=2.13.0 in c:\\users\\ayushi jain\\anaconda3\\envs\\tensorflow_env\\lib\\site-packages (from spacy<2.4.0,>=2.3.0->en_core_web_sm==2.3.1) (2.24.0)\n",
      "Requirement already satisfied: cymem<2.1.0,>=2.0.2 in c:\\users\\ayushi jain\\anaconda3\\envs\\tensorflow_env\\lib\\site-packages (from spacy<2.4.0,>=2.3.0->en_core_web_sm==2.3.1) (2.0.4)\n",
      "Requirement already satisfied: tqdm<5.0.0,>=4.38.0 in c:\\users\\ayushi jain\\anaconda3\\envs\\tensorflow_env\\lib\\site-packages (from spacy<2.4.0,>=2.3.0->en_core_web_sm==2.3.1) (4.51.0)\n",
      "Requirement already satisfied: setuptools in c:\\users\\ayushi jain\\anaconda3\\envs\\tensorflow_env\\lib\\site-packages (from spacy<2.4.0,>=2.3.0->en_core_web_sm==2.3.1) (49.4.0.post20200813)\n",
      "Requirement already satisfied: catalogue<1.1.0,>=0.0.7 in c:\\users\\ayushi jain\\anaconda3\\envs\\tensorflow_env\\lib\\site-packages (from spacy<2.4.0,>=2.3.0->en_core_web_sm==2.3.1) (1.0.0)\n",
      "Requirement already satisfied: blis<0.5.0,>=0.4.0 in c:\\users\\ayushi jain\\anaconda3\\envs\\tensorflow_env\\lib\\site-packages (from spacy<2.4.0,>=2.3.0->en_core_web_sm==2.3.1) (0.4.1)\n",
      "Requirement already satisfied: wasabi<1.1.0,>=0.4.0 in c:\\users\\ayushi jain\\anaconda3\\envs\\tensorflow_env\\lib\\site-packages (from spacy<2.4.0,>=2.3.0->en_core_web_sm==2.3.1) (0.8.0)\n",
      "Requirement already satisfied: numpy>=1.15.0 in c:\\users\\ayushi jain\\anaconda3\\envs\\tensorflow_env\\lib\\site-packages (from spacy<2.4.0,>=2.3.0->en_core_web_sm==2.3.1) (1.19.1)\n",
      "Requirement already satisfied: srsly<1.1.0,>=1.0.2 in c:\\users\\ayushi jain\\anaconda3\\envs\\tensorflow_env\\lib\\site-packages (from spacy<2.4.0,>=2.3.0->en_core_web_sm==2.3.1) (1.0.2)\n",
      "Requirement already satisfied: plac<1.2.0,>=0.9.6 in c:\\users\\ayushi jain\\anaconda3\\envs\\tensorflow_env\\lib\\site-packages (from spacy<2.4.0,>=2.3.0->en_core_web_sm==2.3.1) (1.1.3)\n",
      "Requirement already satisfied: murmurhash<1.1.0,>=0.28.0 in c:\\users\\ayushi jain\\anaconda3\\envs\\tensorflow_env\\lib\\site-packages (from spacy<2.4.0,>=2.3.0->en_core_web_sm==2.3.1) (1.0.4)\n",
      "Requirement already satisfied: preshed<3.1.0,>=3.0.2 in c:\\users\\ayushi jain\\anaconda3\\envs\\tensorflow_env\\lib\\site-packages (from spacy<2.4.0,>=2.3.0->en_core_web_sm==2.3.1) (3.0.3)\n",
      "Requirement already satisfied: thinc==7.4.1 in c:\\users\\ayushi jain\\anaconda3\\envs\\tensorflow_env\\lib\\site-packages (from spacy<2.4.0,>=2.3.0->en_core_web_sm==2.3.1) (7.4.1)\n",
      "Requirement already satisfied: urllib3!=1.25.0,!=1.25.1,<1.26,>=1.21.1 in c:\\users\\ayushi jain\\anaconda3\\envs\\tensorflow_env\\lib\\site-packages (from requests<3.0.0,>=2.13.0->spacy<2.4.0,>=2.3.0->en_core_web_sm==2.3.1) (1.25.10)\n",
      "Requirement already satisfied: idna<3,>=2.5 in c:\\users\\ayushi jain\\anaconda3\\envs\\tensorflow_env\\lib\\site-packages (from requests<3.0.0,>=2.13.0->spacy<2.4.0,>=2.3.0->en_core_web_sm==2.3.1) (2.10)\n",
      "Requirement already satisfied: certifi>=2017.4.17 in c:\\users\\ayushi jain\\anaconda3\\envs\\tensorflow_env\\lib\\site-packages (from requests<3.0.0,>=2.13.0->spacy<2.4.0,>=2.3.0->en_core_web_sm==2.3.1) (2020.6.20)\n",
      "Requirement already satisfied: chardet<4,>=3.0.2 in c:\\users\\ayushi jain\\anaconda3\\envs\\tensorflow_env\\lib\\site-packages (from requests<3.0.0,>=2.13.0->spacy<2.4.0,>=2.3.0->en_core_web_sm==2.3.1) (3.0.4)\n",
      "Requirement already satisfied: importlib-metadata>=0.20; python_version < \"3.8\" in c:\\users\\ayushi jain\\anaconda3\\envs\\tensorflow_env\\lib\\site-packages (from catalogue<1.1.0,>=0.0.7->spacy<2.4.0,>=2.3.0->en_core_web_sm==2.3.1) (1.7.0)\n",
      "Requirement already satisfied: zipp>=0.5 in c:\\users\\ayushi jain\\anaconda3\\envs\\tensorflow_env\\lib\\site-packages (from importlib-metadata>=0.20; python_version < \"3.8\"->catalogue<1.1.0,>=0.0.7->spacy<2.4.0,>=2.3.0->en_core_web_sm==2.3.1) (3.1.0)\n",
      "symbolic link created for C:\\Users\\AYUSHI JAIN\\Anaconda3\\envs\\tensorflow_env\\lib\\site-packages\\spacy\\data\\en <<===>> C:\\Users\\AYUSHI JAIN\\Anaconda3\\envs\\tensorflow_env\\lib\\site-packages\\en_core_web_sm\n",
      "[+] Download and installation successful\n",
      "You can now load the model via spacy.load('en_core_web_sm')\n",
      "[+] Linking successful\n",
      "C:\\Users\\AYUSHI\n",
      "JAIN\\Anaconda3\\envs\\tensorflow_env\\lib\\site-packages\\en_core_web_sm -->\n",
      "C:\\Users\\AYUSHI\n",
      "JAIN\\Anaconda3\\envs\\tensorflow_env\\lib\\site-packages\\spacy\\data\\en\n",
      "You can now load the model via spacy.load('en')\n"
     ]
    }
   ],
   "source": [
    "!python -m spacy download en"
   ]
  },
  {
   "cell_type": "code",
   "execution_count": 6,
   "metadata": {},
   "outputs": [],
   "source": [
    "#Importing Chatbot\n",
    "from chatterbot import ChatBot"
   ]
  },
  {
   "cell_type": "code",
   "execution_count": 7,
   "metadata": {},
   "outputs": [],
   "source": [
    "bot = ChatBot('Paras')"
   ]
  },
  {
   "cell_type": "code",
   "execution_count": 8,
   "metadata": {},
   "outputs": [],
   "source": [
    "# Create object of ChatBot class with Storage Adapter\n",
    "bot = ChatBot(\n",
    "    'Paras',\n",
    "    storage_adapter='chatterbot.storage.SQLStorageAdapter',\n",
    "    database_uri='sqlite:///database.sqlite3'\n",
    ")"
   ]
  },
  {
   "cell_type": "code",
   "execution_count": 9,
   "metadata": {},
   "outputs": [
    {
     "name": "stdout",
     "output_type": "stream",
     "text": [
      "List Trainer: [####################] 100%\n"
     ]
    }
   ],
   "source": [
    "# Import ListTrainer\n",
    "from chatterbot.trainers import ListTrainer\n",
    "\n",
    "trainer = ListTrainer(bot)\n",
    "\n",
    "trainer.train([\n",
    "'Hi',\n",
    "'Hello',\n",
    "'I need your assistance regarding my order',\n",
    "'Please, Provide me with your order id',\n",
    "'I have a complaint.',\n",
    "'Please elaborate, your concern',\n",
    "'How long it will take to receive an order ?',\n",
    "'An order takes 3-5 Business days to get delivered.',\n",
    "'Okay Thanks',\n",
    "'No Problem! Have a Good Day!'\n",
    "])"
   ]
  },
  {
   "cell_type": "code",
   "execution_count": 10,
   "metadata": {},
   "outputs": [
    {
     "name": "stdout",
     "output_type": "stream",
     "text": [
      "Bot Response: Please elaborate, your concern\n"
     ]
    }
   ],
   "source": [
    "# Get a response to the input text 'I have a complaint.'\n",
    "response = bot.get_response('I have a complaint.')\n",
    "\n",
    "print(\"Bot Response:\", response)"
   ]
  },
  {
   "cell_type": "code",
   "execution_count": 11,
   "metadata": {},
   "outputs": [
    {
     "name": "stdout",
     "output_type": "stream",
     "text": [
      "Enter Your Name: Ayushi\n",
      "Welcome to the Bot Service! Let me know how can I help you?\n",
      "Ayushi:Hi\n",
      "Bot: Hello\n",
      "Ayushi:How long it will take to receive an order ?\n",
      "Bot: An order takes 3-5 Business days to get delivered.\n",
      "Ayushi:Okay Thanks\n",
      "Bot: No Problem! Have a Good Day!\n",
      "Ayushi:Bye\n",
      "Bot: Bye\n"
     ]
    }
   ],
   "source": [
    "name=input(\"Enter Your Name: \")\n",
    "print(\"Welcome to the Bot Service! Let me know how can I help you?\")\n",
    "while True:\n",
    "    request=input(name+':')\n",
    "    if request=='Bye' or request =='bye':\n",
    "        print('Bot: Bye')\n",
    "        break\n",
    "    else:\n",
    "        response=bot.get_response(request)\n",
    "        print('Bot:',response)"
   ]
  }
 ],
 "metadata": {
  "kernelspec": {
   "display_name": "Python 3",
   "language": "python",
   "name": "python3"
  },
  "language_info": {
   "codemirror_mode": {
    "name": "ipython",
    "version": 3
   },
   "file_extension": ".py",
   "mimetype": "text/x-python",
   "name": "python",
   "nbconvert_exporter": "python",
   "pygments_lexer": "ipython3",
   "version": "3.7.8"
  }
 },
 "nbformat": 4,
 "nbformat_minor": 4
}
